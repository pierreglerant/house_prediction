{
 "cells": [
  {
   "cell_type": "markdown",
   "metadata": {},
   "source": [
    "# First data predictions"
   ]
  },
  {
   "cell_type": "markdown",
   "metadata": {},
   "source": [
    "In this notebook, we will do our first data predictions. These predictions will be quite simple, with a quite preprocessing of the data before."
   ]
  },
  {
   "cell_type": "code",
   "execution_count": 17,
   "metadata": {},
   "outputs": [],
   "source": [
    "import pandas as pd\n",
    "import get_mutual_information as mi\n",
    "import preprocess_data as preprocess\n",
    "import numpy as np\n",
    "from sklearn.model_selection import train_test_split\n",
    "from sklearn.ensemble import RandomForestRegressor"
   ]
  },
  {
   "cell_type": "markdown",
   "metadata": {},
   "source": [
    "### 1. Data preprocessing"
   ]
  },
  {
   "cell_type": "markdown",
   "metadata": {},
   "source": [
    "Define X and y"
   ]
  },
  {
   "cell_type": "code",
   "execution_count": 6,
   "metadata": {},
   "outputs": [
    {
     "data": {
      "text/plain": [
       "Series([], Name: SalePrice, dtype: int64)"
      ]
     },
     "execution_count": 6,
     "metadata": {},
     "output_type": "execute_result"
    }
   ],
   "source": [
    "# Stock the data into a DataFrame\n",
    "housesDf          = pd.read_csv('data/train.csv')\n",
    "\n",
    "# Print the head of the DataFrame\n",
    "housesDf.head()\n",
    "\n",
    "# Define X and y\n",
    "X                 = housesDf.copy()\n",
    "y                 = X.pop('SalePrice')"
   ]
  },
  {
   "cell_type": "markdown",
   "metadata": {},
   "source": [
    "Preprocess X and y"
   ]
  },
  {
   "cell_type": "code",
   "execution_count": 16,
   "metadata": {},
   "outputs": [],
   "source": [
    "# Replace missing values and encode categorical values in X\n",
    "X                = preprocess.preprocessData(X)\n",
    "\n",
    "# Get the name of X's columns with discrete features\n",
    "discreteFeatures = X.dtypes == int\n",
    "\n",
    "# Get mutual information scores between X and y\n",
    "miScores         = mi.getMIScores(X,y,discreteFeatures)\n",
    "\n",
    "# Get the name of the features\n",
    "# The criteria of features selection is miScores > 0.0\n",
    "featureNames     = miScores[miScores>0.0].index\n",
    "\n",
    "# Select columns features\n",
    "X                = X[featureNames]"
   ]
  },
  {
   "cell_type": "markdown",
   "metadata": {},
   "source": [
    "Split X and y into train and validation data "
   ]
  },
  {
   "cell_type": "code",
   "execution_count": 18,
   "metadata": {},
   "outputs": [],
   "source": [
    "Xtrain,Xvalid,ytrain,yvalid = train_test_split(X,y,test_size=0.2,random_state=0)"
   ]
  }
 ],
 "metadata": {
  "kernelspec": {
   "display_name": "Python 3",
   "language": "python",
   "name": "python3"
  },
  "language_info": {
   "codemirror_mode": {
    "name": "ipython",
    "version": 3
   },
   "file_extension": ".py",
   "mimetype": "text/x-python",
   "name": "python",
   "nbconvert_exporter": "python",
   "pygments_lexer": "ipython3",
   "version": "3.12.3"
  }
 },
 "nbformat": 4,
 "nbformat_minor": 2
}
