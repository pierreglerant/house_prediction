{
 "cells": [
  {
   "cell_type": "markdown",
   "metadata": {},
   "source": [
    "# First data predictions"
   ]
  },
  {
   "cell_type": "markdown",
   "metadata": {},
   "source": [
    "In this notebook, we will do our first data predictions. These predictions will be quite simple, with a quite preprocessing of the data before."
   ]
  },
  {
   "cell_type": "code",
   "execution_count": null,
   "metadata": {},
   "outputs": [],
   "source": [
    "import pandas as pd\n",
    "import get_mutual_information as midedqC\n",
    "import preprocess_data as preprocess"
   ]
  },
  {
   "cell_type": "markdown",
   "metadata": {},
   "source": [
    "### 1. Data preprocessing"
   ]
  },
  {
   "cell_type": "markdown",
   "metadata": {},
   "source": [
    "Define X and y"
   ]
  },
  {
   "cell_type": "code",
   "execution_count": null,
   "metadata": {},
   "outputs": [],
   "source": [
    "# Stock the data into a DataFrame\n",
    "housesDf = pd.read_csv('data/train.csv')\n",
    "\n",
    "# Print the head of the DataFrame\n",
    "housesDf.head()\n",
    "\n",
    "# Define X and y\n",
    "X                 = housesDf.copy()\n",
    "y                 = X.pop('SalePrice')"
   ]
  }
 ],
 "metadata": {
  "language_info": {
   "name": "python"
  }
 },
 "nbformat": 4,
 "nbformat_minor": 2
}
